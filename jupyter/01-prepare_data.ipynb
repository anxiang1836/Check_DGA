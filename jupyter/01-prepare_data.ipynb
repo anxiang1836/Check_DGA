{
 "cells": [
  {
   "cell_type": "markdown",
   "metadata": {},
   "source": [
    "# 360dga数据预处理"
   ]
  },
  {
   "cell_type": "code",
   "execution_count": 1,
   "metadata": {},
   "outputs": [],
   "source": [
    "import pandas as pd\n",
    "import re\n",
    "def read_txt(filePath):\n",
    "    with open(filePath,\"r\") as f:\n",
    "        data = f.readlines()\n",
    "    return [d.strip() for d in data]"
   ]
  },
  {
   "cell_type": "code",
   "execution_count": 2,
   "metadata": {},
   "outputs": [],
   "source": [
    "dga_360 = read_txt(\"origin_data/360dga.txt\")\n",
    "dga_360 = [d for d in dga_360 if re.match(\"#.*\",d)==None and len(d) > 1]\n",
    "dga_360 = [(d.split('\\t')[:2]) for d in dga_360]\n",
    "dga_360_df = pd.DataFrame(dga_360,columns=[\"family\",\"urls\"])"
   ]
  },
  {
   "cell_type": "code",
   "execution_count": 3,
   "metadata": {},
   "outputs": [
    {
     "name": "stdout",
     "output_type": "stream",
     "text": [
      "<class 'pandas.core.frame.DataFrame'>\n",
      "RangeIndex: 1244514 entries, 0 to 1244513\n",
      "Data columns (total 2 columns):\n",
      " #   Column  Non-Null Count    Dtype \n",
      "---  ------  --------------    ----- \n",
      " 0   family  1244514 non-null  object\n",
      " 1   urls    1244514 non-null  object\n",
      "dtypes: object(2)\n",
      "memory usage: 19.0+ MB\n"
     ]
    }
   ],
   "source": [
    "dga_360_df.info()"
   ]
  },
  {
   "cell_type": "code",
   "execution_count": 4,
   "metadata": {},
   "outputs": [],
   "source": [
    "import pickle\n",
    "with open(\"data/dga_360\",\"wb\") as f:\n",
    "    pickle.dump(dga_360_df,f)"
   ]
  },
  {
   "cell_type": "markdown",
   "metadata": {},
   "source": [
    "# alexa-top-100w数据预处理"
   ]
  },
  {
   "cell_type": "code",
   "execution_count": 5,
   "metadata": {},
   "outputs": [],
   "source": [
    "alexa_2019 = pd.read_excel(\"origin_data/2019-alexa-top-100w.xlsx\",header=None)\n",
    "alexa_2019.columns = [\"id\",\"urls\"]\n",
    "alexa_2019 = alexa_2019.drop(\"id\",axis=1)"
   ]
  },
  {
   "cell_type": "code",
   "execution_count": 6,
   "metadata": {},
   "outputs": [
    {
     "name": "stdout",
     "output_type": "stream",
     "text": [
      "<class 'pandas.core.frame.DataFrame'>\n",
      "RangeIndex: 1000000 entries, 0 to 999999\n",
      "Data columns (total 1 columns):\n",
      " #   Column  Non-Null Count    Dtype \n",
      "---  ------  --------------    ----- \n",
      " 0   urls    1000000 non-null  object\n",
      "dtypes: object(1)\n",
      "memory usage: 7.6+ MB\n"
     ]
    }
   ],
   "source": [
    "alexa_2019.info()"
   ]
  },
  {
   "cell_type": "code",
   "execution_count": 7,
   "metadata": {},
   "outputs": [],
   "source": [
    "with open(\"data/alexa_2019\",\"wb\") as f:\n",
    "    pickle.dump(alexa_2019,f)"
   ]
  },
  {
   "cell_type": "markdown",
   "metadata": {},
   "source": [
    "# 整合为数据集"
   ]
  },
  {
   "cell_type": "markdown",
   "metadata": {},
   "source": [
    "## 合并360dga与alexa"
   ]
  },
  {
   "cell_type": "code",
   "execution_count": 8,
   "metadata": {},
   "outputs": [
    {
     "name": "stdout",
     "output_type": "stream",
     "text": [
      "<class 'pandas.core.frame.DataFrame'>\n",
      "Int64Index: 2244514 entries, 399606 to 638150\n",
      "Data columns (total 2 columns):\n",
      " #   Column  Dtype \n",
      "---  ------  ----- \n",
      " 0   urls    object\n",
      " 1   label   int64 \n",
      "dtypes: int64(1), object(1)\n",
      "memory usage: 51.4+ MB\n"
     ]
    }
   ],
   "source": [
    "import pickle\n",
    "with open(\"data/dga_360\",\"rb\") as f:\n",
    "    negative = pickle.load(f)\n",
    "\n",
    "with open(\"data/alexa_2019\",\"rb\") as f:\n",
    "    positive = pickle.load(f)\n",
    "    \n",
    "from sklearn.utils import shuffle\n",
    "import pandas as pd\n",
    "negative = shuffle(negative)\n",
    "positive = shuffle(positive)\n",
    "negative = negative.drop(\"family\",axis = 1)\n",
    "negative['label'] = 1\n",
    "positive['label'] = 0\n",
    "data = pd.concat([positive,negative])\n",
    "data.info()"
   ]
  },
  {
   "cell_type": "markdown",
   "metadata": {},
   "source": [
    "## 切分数据集为训练、验证和测试"
   ]
  },
  {
   "cell_type": "code",
   "execution_count": 9,
   "metadata": {},
   "outputs": [],
   "source": [
    "X = data[\"urls\"]\n",
    "y = data[\"label\"]\n",
    "from sklearn.model_selection import train_test_split\n",
    "data = train_test_split(X, y, test_size=0.1, random_state=2020,stratify=y)\n",
    "test = data[1],data[3]"
   ]
  },
  {
   "cell_type": "code",
   "execution_count": 10,
   "metadata": {},
   "outputs": [],
   "source": [
    "# 继续切分训练集和验证集\n",
    "data = train_test_split(data[0], data[2], test_size=0.1, random_state=2020,stratify=data[2])\n",
    "train = data[0],data[2]\n",
    "val = data[1],data[3]"
   ]
  },
  {
   "cell_type": "code",
   "execution_count": 11,
   "metadata": {},
   "outputs": [],
   "source": [
    "with open(\"data/train_data\",\"wb\") as f:\n",
    "    pickle.dump(train,f)\n",
    "    \n",
    "with open(\"data/text_data\",\"wb\") as f:\n",
    "    pickle.dump(test,f)\n",
    "    \n",
    "with open(\"data/val_data\",\"wb\") as f:\n",
    "    pickle.dump(val,f)"
   ]
  }
 ],
 "metadata": {
  "kernelspec": {
   "display_name": "flyai",
   "language": "python",
   "name": "flyai"
  },
  "language_info": {
   "codemirror_mode": {
    "name": "ipython",
    "version": 3
   },
   "file_extension": ".py",
   "mimetype": "text/x-python",
   "name": "python",
   "nbconvert_exporter": "python",
   "pygments_lexer": "ipython3",
   "version": "3.6.7"
  },
  "toc-autonumbering": true
 },
 "nbformat": 4,
 "nbformat_minor": 4
}
